{
 "cells": [
  {
   "cell_type": "markdown",
   "id": "spectacular-oxford",
   "metadata": {},
   "source": [
    "# Writing data to and reading data from a Database using Python"
   ]
  },
  {
   "cell_type": "markdown",
   "id": "14d7fbf5",
   "metadata": {},
   "source": [
    "## Libraries and settings"
   ]
  },
  {
   "cell_type": "code",
   "execution_count": 15,
   "id": "6b7c9af0",
   "metadata": {},
   "outputs": [
    {
     "name": "stdout",
     "output_type": "stream",
     "text": [
      "/workspaces/data_analytics/3_sql\n"
     ]
    }
   ],
   "source": [
    "# Libraries\n",
    "import os\n",
    "import sqlite3\n",
    "import fnmatch\n",
    "import numpy as np\n",
    "import pandas as pd\n",
    "import matplotlib.pyplot as plt\n",
    "\n",
    "# Ignore warnings\n",
    "import warnings\n",
    "warnings.filterwarnings(\"ignore\")\n",
    "\n",
    "# Function to close a sqlite db-connection\n",
    "def check_conn(conn):\n",
    "     try:\n",
    "        conn.cursor()\n",
    "        return True\n",
    "     except Exception as ex:\n",
    "        return False\n",
    "\n",
    "# Get current working directory\n",
    "print(os.getcwd())"
   ]
  },
  {
   "cell_type": "markdown",
   "id": "0b880d4d",
   "metadata": {},
   "source": [
    "## Create sqlite data base"
   ]
  },
  {
   "cell_type": "code",
   "execution_count": 16,
   "id": "240f7517",
   "metadata": {},
   "outputs": [
    {
     "name": "stdout",
     "output_type": "stream",
     "text": [
      "restaraunts_database.db\n"
     ]
    }
   ],
   "source": [
    "# Create data base\n",
    "conn = sqlite3.connect('restaraunts_database.db') \n",
    "cursor = conn.cursor()\n",
    "\n",
    "# Show dbs in the directory\n",
    "flist = fnmatch.filter(os.listdir('.'), '*.db')\n",
    "for i in flist:\n",
    "    print(i)"
   ]
  },
  {
   "cell_type": "markdown",
   "id": "aff97772",
   "metadata": {},
   "source": [
    "## Create SQL-table in the database"
   ]
  },
  {
   "cell_type": "code",
   "execution_count": 17,
   "id": "a3d83cba",
   "metadata": {},
   "outputs": [],
   "source": [
    "cursor.execute('''CREATE TABLE IF NOT EXISTS restaurants_table (\n",
    "    orderId VARCHAR(50),\n",
    "    restaurant_name VARCHAR(200),\n",
    "    total_stars DECIMAL(8,2),\n",
    "    number_of_reviews DECIMAL(8,2),\n",
    "    cuisine_type VARCHAR(200),\n",
    "    price_class VARCHAR(200),\n",
    "    raw_description VARCHAR(200),\n",
    "    opening_times VARCHAR(200),\n",
    "    address VARCHAR(200),\n",
    "    amenities VARCHAR(200),\n",
    "    district VARCHAR(200),\n",
    "    lat DECIMAL(10,8),\n",
    "    long DECIMAL(11,8)\n",
    ")''')\n",
    "conn.commit()"
   ]
  },
  {
   "cell_type": "markdown",
   "id": "a87c8dee",
   "metadata": {},
   "source": [
    "## Read data from file to data frame"
   ]
  },
  {
   "cell_type": "code",
   "execution_count": 18,
   "id": "34300bd6",
   "metadata": {},
   "outputs": [
    {
     "name": "stdout",
     "output_type": "stream",
     "text": [
      "(239, 14)\n"
     ]
    },
    {
     "data": {
      "text/html": [
       "<div>\n",
       "<style scoped>\n",
       "    .dataframe tbody tr th:only-of-type {\n",
       "        vertical-align: middle;\n",
       "    }\n",
       "\n",
       "    .dataframe tbody tr th {\n",
       "        vertical-align: top;\n",
       "    }\n",
       "\n",
       "    .dataframe thead th {\n",
       "        text-align: right;\n",
       "    }\n",
       "</style>\n",
       "<table border=\"1\" class=\"dataframe\">\n",
       "  <thead>\n",
       "    <tr style=\"text-align: right;\">\n",
       "      <th></th>\n",
       "      <th>web-scraper-order</th>\n",
       "      <th>restaurant_name</th>\n",
       "      <th>total_stars</th>\n",
       "      <th>number_of_reviews</th>\n",
       "      <th>cuisine_type</th>\n",
       "      <th>price_class</th>\n",
       "      <th>raw_description</th>\n",
       "      <th>opening_times</th>\n",
       "      <th>address</th>\n",
       "      <th>amenities</th>\n",
       "      <th>district</th>\n",
       "      <th>long_lat</th>\n",
       "      <th>lat</th>\n",
       "      <th>long</th>\n",
       "    </tr>\n",
       "  </thead>\n",
       "  <tbody>\n",
       "    <tr>\n",
       "      <th>0</th>\n",
       "      <td>1704906267-1</td>\n",
       "      <td>Restaurant Pflug</td>\n",
       "      <td>4.0</td>\n",
       "      <td>(9 reviews)</td>\n",
       "      <td>Schweizer Küche</td>\n",
       "      <td>$$$</td>\n",
       "      <td>NaN</td>\n",
       "      <td>12:00 PM - 2:00 PM, 6:30 PM - 12:00 AM (Folgetag)</td>\n",
       "      <td>Brauerstrasse 74 8004 Zürich</td>\n",
       "      <td>Reservationen möglichKeine MitnahmeModerate La...</td>\n",
       "      <td>Kreis 4</td>\n",
       "      <td>https://maps.googleapis.com/maps/api/staticmap...</td>\n",
       "      <td>47.379016</td>\n",
       "      <td>8.524960</td>\n",
       "    </tr>\n",
       "    <tr>\n",
       "      <th>1</th>\n",
       "      <td>1704906272-2</td>\n",
       "      <td>Ototo</td>\n",
       "      <td>4.3</td>\n",
       "      <td>(7 reviews)</td>\n",
       "      <td>Sushi</td>\n",
       "      <td>$$$</td>\n",
       "      <td>NaN</td>\n",
       "      <td>5:30 PM - 11:00 PM</td>\n",
       "      <td>Nordstrasse 199 8037 Zürich</td>\n",
       "      <td>Reservationen möglichLieferung möglichBestellu...</td>\n",
       "      <td>Kreis 10</td>\n",
       "      <td>https://maps.googleapis.com/maps/api/staticmap...</td>\n",
       "      <td>47.392527</td>\n",
       "      <td>8.530738</td>\n",
       "    </tr>\n",
       "    <tr>\n",
       "      <th>2</th>\n",
       "      <td>1704906276-3</td>\n",
       "      <td>Tschingg</td>\n",
       "      <td>3.8</td>\n",
       "      <td>(6 reviews)</td>\n",
       "      <td>Italienisch</td>\n",
       "      <td>$$</td>\n",
       "      <td>NaN</td>\n",
       "      <td>9:00 AM - 8:00 PM</td>\n",
       "      <td>Schaffhauserstrasse 353 8050 Zürich</td>\n",
       "      <td>Keine ReservierungenFür Gruppen geeignetFür Ki...</td>\n",
       "      <td>Kreis 11</td>\n",
       "      <td>https://maps.googleapis.com/maps/api/staticmap...</td>\n",
       "      <td>47.409786</td>\n",
       "      <td>8.546027</td>\n",
       "    </tr>\n",
       "    <tr>\n",
       "      <th>3</th>\n",
       "      <td>1704906281-4</td>\n",
       "      <td>Karl der Grosse</td>\n",
       "      <td>4.0</td>\n",
       "      <td>(4 reviews)</td>\n",
       "      <td>Schweizer Küche</td>\n",
       "      <td>$$</td>\n",
       "      <td>NaN</td>\n",
       "      <td>8:00 AM - 11:00 PM</td>\n",
       "      <td>Kirchgasse 14 8001 Zürich</td>\n",
       "      <td>Reservationen möglichKein LieferserviceKeine M...</td>\n",
       "      <td>Kreis 1</td>\n",
       "      <td>https://maps.googleapis.com/maps/api/staticmap...</td>\n",
       "      <td>47.369761</td>\n",
       "      <td>8.544650</td>\n",
       "    </tr>\n",
       "    <tr>\n",
       "      <th>4</th>\n",
       "      <td>1704906286-5</td>\n",
       "      <td>L'Altro</td>\n",
       "      <td>5.0</td>\n",
       "      <td>(7 reviews)</td>\n",
       "      <td>Italienisch</td>\n",
       "      <td>$$$</td>\n",
       "      <td>NaN</td>\n",
       "      <td>11:30 AM - 2:30 PM, 5:30 PM - 12:00 AM (Folgetag)</td>\n",
       "      <td>Sternenstrasse 11 8002 Zürich</td>\n",
       "      <td>Reservationen möglichKeine MitnahmeSitzplätze ...</td>\n",
       "      <td>Kreis 2</td>\n",
       "      <td>https://maps.googleapis.com/maps/api/staticmap...</td>\n",
       "      <td>47.360064</td>\n",
       "      <td>8.534062</td>\n",
       "    </tr>\n",
       "  </tbody>\n",
       "</table>\n",
       "</div>"
      ],
      "text/plain": [
       "  web-scraper-order   restaurant_name  total_stars number_of_reviews  \\\n",
       "0      1704906267-1  Restaurant Pflug          4.0       (9 reviews)   \n",
       "1      1704906272-2             Ototo          4.3       (7 reviews)   \n",
       "2      1704906276-3          Tschingg          3.8       (6 reviews)   \n",
       "3      1704906281-4   Karl der Grosse          4.0       (4 reviews)   \n",
       "4      1704906286-5           L'Altro          5.0       (7 reviews)   \n",
       "\n",
       "      cuisine_type price_class raw_description  \\\n",
       "0  Schweizer Küche         $$$             NaN   \n",
       "1            Sushi         $$$             NaN   \n",
       "2      Italienisch          $$             NaN   \n",
       "3  Schweizer Küche          $$             NaN   \n",
       "4      Italienisch         $$$             NaN   \n",
       "\n",
       "                                       opening_times  \\\n",
       "0  12:00 PM - 2:00 PM, 6:30 PM - 12:00 AM (Folgetag)   \n",
       "1                                 5:30 PM - 11:00 PM   \n",
       "2                                  9:00 AM - 8:00 PM   \n",
       "3                                 8:00 AM - 11:00 PM   \n",
       "4  11:30 AM - 2:30 PM, 5:30 PM - 12:00 AM (Folgetag)   \n",
       "\n",
       "                               address  \\\n",
       "0         Brauerstrasse 74 8004 Zürich   \n",
       "1          Nordstrasse 199 8037 Zürich   \n",
       "2  Schaffhauserstrasse 353 8050 Zürich   \n",
       "3            Kirchgasse 14 8001 Zürich   \n",
       "4        Sternenstrasse 11 8002 Zürich   \n",
       "\n",
       "                                           amenities  district  \\\n",
       "0  Reservationen möglichKeine MitnahmeModerate La...   Kreis 4   \n",
       "1  Reservationen möglichLieferung möglichBestellu...  Kreis 10   \n",
       "2  Keine ReservierungenFür Gruppen geeignetFür Ki...  Kreis 11   \n",
       "3  Reservationen möglichKein LieferserviceKeine M...   Kreis 1   \n",
       "4  Reservationen möglichKeine MitnahmeSitzplätze ...   Kreis 2   \n",
       "\n",
       "                                            long_lat        lat      long  \n",
       "0  https://maps.googleapis.com/maps/api/staticmap...  47.379016  8.524960  \n",
       "1  https://maps.googleapis.com/maps/api/staticmap...  47.392527  8.530738  \n",
       "2  https://maps.googleapis.com/maps/api/staticmap...  47.409786  8.546027  \n",
       "3  https://maps.googleapis.com/maps/api/staticmap...  47.369761  8.544650  \n",
       "4  https://maps.googleapis.com/maps/api/staticmap...  47.360064  8.534062  "
      ]
     },
     "execution_count": 18,
     "metadata": {},
     "output_type": "execute_result"
    }
   ],
   "source": [
    "import pandas as pd\n",
    "\n",
    "df = pd.read_csv('restaurant_data_zuerich.csv', \n",
    "                 sep=',', \n",
    "                 encoding='utf-8', \n",
    "                 usecols=['web-scraper-order', 'restaurant_name', 'total_stars', \n",
    "                          'number_of_reviews', 'cuisine_type', 'price_class', \n",
    "                          'raw_description', 'opening_times', 'address', \n",
    "                          'amenities', 'district', 'long_lat', 'lat', 'long'])\n",
    "\n",
    "print(df.shape)\n",
    "df.head(5)\n"
   ]
  },
  {
   "cell_type": "markdown",
   "id": "ef970dfe",
   "metadata": {},
   "source": [
    "## Write data to the SQL-table in data base"
   ]
  },
  {
   "cell_type": "code",
   "execution_count": 19,
   "id": "1c728ac7",
   "metadata": {},
   "outputs": [
    {
     "data": {
      "text/plain": [
       "239"
      ]
     },
     "execution_count": 19,
     "metadata": {},
     "output_type": "execute_result"
    }
   ],
   "source": [
    "df.to_sql(name = 'restaurants_table',\n",
    "          con = conn,\n",
    "          index = False,\n",
    "          if_exists = 'replace')"
   ]
  },
  {
   "cell_type": "markdown",
   "id": "43c2ef9f",
   "metadata": {},
   "source": [
    "## Query the SQL-table"
   ]
  },
  {
   "cell_type": "code",
   "execution_count": 20,
   "id": "48dcc02c",
   "metadata": {},
   "outputs": [
    {
     "ename": "OperationalError",
     "evalue": "no such column: orderId",
     "output_type": "error",
     "traceback": [
      "\u001b[0;31m---------------------------------------------------------------------------\u001b[0m",
      "\u001b[0;31mOperationalError\u001b[0m                          Traceback (most recent call last)",
      "Cell \u001b[0;32mIn[20], line 2\u001b[0m\n\u001b[1;32m      1\u001b[0m \u001b[38;5;66;03m# Query der SQL-Tabelle\u001b[39;00m\n\u001b[0;32m----> 2\u001b[0m \u001b[43mcursor\u001b[49m\u001b[38;5;241;43m.\u001b[39;49m\u001b[43mexecute\u001b[49m\u001b[43m(\u001b[49m\u001b[38;5;124;43m'''\u001b[39;49m\u001b[38;5;124;43mSELECT orderId, restaurant_name, total_stars, number_of_reviews, cuisine_type, \u001b[39;49m\n\u001b[1;32m      3\u001b[0m \u001b[38;5;124;43m                          price_class, raw_description, opening_times, address, amenities, \u001b[39;49m\n\u001b[1;32m      4\u001b[0m \u001b[38;5;124;43m                          district, lat, long\u001b[39;49m\n\u001b[1;32m      5\u001b[0m \u001b[38;5;124;43m                   FROM restaurants_table\u001b[39;49m\n\u001b[1;32m      6\u001b[0m \u001b[38;5;124;43m                   WHERE number_of_reviews >= 1 AND total_stars >= 3.5\u001b[39;49m\u001b[38;5;124;43m'''\u001b[39;49m\u001b[43m)\u001b[49m\n\u001b[1;32m      8\u001b[0m \u001b[38;5;66;03m# Erstellen eines DataFrames aus den abgerufenen Daten\u001b[39;00m\n\u001b[1;32m      9\u001b[0m df \u001b[38;5;241m=\u001b[39m pd\u001b[38;5;241m.\u001b[39mDataFrame(cursor\u001b[38;5;241m.\u001b[39mfetchall(), \n\u001b[1;32m     10\u001b[0m                   columns\u001b[38;5;241m=\u001b[39m[\u001b[38;5;124m'\u001b[39m\u001b[38;5;124mOrderId\u001b[39m\u001b[38;5;124m'\u001b[39m, \u001b[38;5;124m'\u001b[39m\u001b[38;5;124mRestaurantName\u001b[39m\u001b[38;5;124m'\u001b[39m, \u001b[38;5;124m'\u001b[39m\u001b[38;5;124mTotalStars\u001b[39m\u001b[38;5;124m'\u001b[39m, \u001b[38;5;124m'\u001b[39m\u001b[38;5;124mNumberOfReviews\u001b[39m\u001b[38;5;124m'\u001b[39m, \u001b[38;5;124m'\u001b[39m\u001b[38;5;124mCuisineType\u001b[39m\u001b[38;5;124m'\u001b[39m, \n\u001b[1;32m     11\u001b[0m                            \u001b[38;5;124m'\u001b[39m\u001b[38;5;124mPriceClass\u001b[39m\u001b[38;5;124m'\u001b[39m, \u001b[38;5;124m'\u001b[39m\u001b[38;5;124mRawDescription\u001b[39m\u001b[38;5;124m'\u001b[39m, \u001b[38;5;124m'\u001b[39m\u001b[38;5;124mOpeningTimes\u001b[39m\u001b[38;5;124m'\u001b[39m, \u001b[38;5;124m'\u001b[39m\u001b[38;5;124mAddress\u001b[39m\u001b[38;5;124m'\u001b[39m, \u001b[38;5;124m'\u001b[39m\u001b[38;5;124mAmenities\u001b[39m\u001b[38;5;124m'\u001b[39m, \n\u001b[1;32m     12\u001b[0m                            \u001b[38;5;124m'\u001b[39m\u001b[38;5;124mDistrict\u001b[39m\u001b[38;5;124m'\u001b[39m, \u001b[38;5;124m'\u001b[39m\u001b[38;5;124mLatitude\u001b[39m\u001b[38;5;124m'\u001b[39m, \u001b[38;5;124m'\u001b[39m\u001b[38;5;124mLongitude\u001b[39m\u001b[38;5;124m'\u001b[39m])    \n",
      "\u001b[0;31mOperationalError\u001b[0m: no such column: orderId"
     ]
    }
   ],
   "source": [
    "# Query der SQL-Tabelle\n",
    "cursor.execute('''SELECT orderId, restaurant_name, total_stars, number_of_reviews, cuisine_type, \n",
    "                          price_class, raw_description, opening_times, address, amenities, \n",
    "                          district, lat, long\n",
    "                   FROM restaurants_table\n",
    "                   WHERE number_of_reviews >= 1 AND total_stars >= 3.5''')\n",
    "\n",
    "# Erstellen eines DataFrames aus den abgerufenen Daten\n",
    "df = pd.DataFrame(cursor.fetchall(), \n",
    "                  columns=['OrderId', 'RestaurantName', 'TotalStars', 'NumberOfReviews', 'CuisineType', \n",
    "                           'PriceClass', 'RawDescription', 'OpeningTimes', 'Address', 'Amenities', \n",
    "                           'District', 'Latitude', 'Longitude'])    \n",
    "df\n"
   ]
  },
  {
   "cell_type": "markdown",
   "id": "0cc2274f",
   "metadata": {},
   "source": [
    "## Plot histogramm of rental prices"
   ]
  },
  {
   "cell_type": "code",
   "execution_count": null,
   "id": "60146b13",
   "metadata": {},
   "outputs": [],
   "source": [
    "import matplotlib.pyplot as plt\n",
    "\n",
    "# Angenommen df ist Ihr DataFrame und 'Price' ist die Spalte mit den Preisen\n",
    "# Erstellen des Histogramms\n",
    "df['Price'].plot.hist(grid=True, \n",
    "                      bins=20, \n",
    "                      rwidth=0.9,\n",
    "                      color='#607c8e')\n",
    "\n",
    "# Hinzufügen von Titel und Achsenbeschriftungen\n",
    "plt.title('Apartment Price Distribution')\n",
    "plt.xlabel('Price')\n",
    "plt.ylabel('Frequency')\n",
    "\n",
    "# Aktivieren des Gitters\n",
    "plt.grid(axis='y', alpha=0.75)\n",
    "\n",
    "# Anzeigen des Plots\n",
    "plt.show()\n"
   ]
  },
  {
   "cell_type": "markdown",
   "id": "7904d668",
   "metadata": {},
   "source": [
    "## Close db connection (if open)"
   ]
  },
  {
   "cell_type": "code",
   "execution_count": null,
   "id": "1b90d3ee",
   "metadata": {},
   "outputs": [],
   "source": [
    "# Close db connection (if open)\n",
    "try:\n",
    "    if check_conn(conn):\n",
    "        conn.close()\n",
    "    else:\n",
    "        pass\n",
    "except:\n",
    "    pass\n",
    "\n",
    "# Status (True = open, False = closed)\n",
    "print(check_conn(conn))"
   ]
  },
  {
   "cell_type": "markdown",
   "id": "e847eb93",
   "metadata": {},
   "source": [
    "### Jupyter notebook --footer info-- (please always provide this at the end of each submitted notebook)"
   ]
  },
  {
   "cell_type": "code",
   "execution_count": null,
   "id": "8e706987",
   "metadata": {},
   "outputs": [],
   "source": [
    "import os\n",
    "import platform\n",
    "import socket\n",
    "from platform import python_version\n",
    "from datetime import datetime\n",
    "\n",
    "print('-----------------------------------')\n",
    "print(os.name.upper())\n",
    "print(platform.system(), '|', platform.release())\n",
    "print('Datetime:', datetime.now().strftime(\"%Y-%m-%d %H:%M:%S\"))\n",
    "print('Python Version:', python_version())\n",
    "print('-----------------------------------')"
   ]
  }
 ],
 "metadata": {
  "kernelspec": {
   "display_name": "Python 3 (ipykernel)",
   "language": "python",
   "name": "python3"
  },
  "language_info": {
   "codemirror_mode": {
    "name": "ipython",
    "version": 3
   },
   "file_extension": ".py",
   "mimetype": "text/x-python",
   "name": "python",
   "nbconvert_exporter": "python",
   "pygments_lexer": "ipython3",
   "version": "3.10.13"
  }
 },
 "nbformat": 4,
 "nbformat_minor": 5
}
