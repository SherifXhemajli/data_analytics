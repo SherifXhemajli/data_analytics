{
 "cells": [
  {
   "cell_type": "markdown",
   "id": "spectacular-oxford",
   "metadata": {},
   "source": [
    "# Writing data to and reading data from a Database using Python"
   ]
  },
  {
   "cell_type": "markdown",
   "id": "14d7fbf5",
   "metadata": {},
   "source": [
    "## Libraries and settings"
   ]
  },
  {
   "cell_type": "code",
   "execution_count": 1,
   "id": "6b7c9af0",
   "metadata": {},
   "outputs": [
    {
     "name": "stdout",
     "output_type": "stream",
     "text": [
      "/workspaces/data_analytics/3_sql\n"
     ]
    }
   ],
   "source": [
    "# Libraries\n",
    "import os\n",
    "import sqlite3\n",
    "import fnmatch\n",
    "import numpy as np\n",
    "import pandas as pd\n",
    "import matplotlib.pyplot as plt\n",
    "\n",
    "# Ignore warnings\n",
    "import warnings\n",
    "warnings.filterwarnings(\"ignore\")\n",
    "\n",
    "# Function to close a sqlite db-connection\n",
    "def check_conn(conn):\n",
    "     try:\n",
    "        conn.cursor()\n",
    "        return True\n",
    "     except Exception as ex:\n",
    "        return False\n",
    "\n",
    "# Get current working directory\n",
    "print(os.getcwd())"
   ]
  },
  {
   "cell_type": "markdown",
   "id": "0b880d4d",
   "metadata": {},
   "source": [
    "## Create sqlite data base"
   ]
  },
  {
   "cell_type": "code",
   "execution_count": 2,
   "id": "240f7517",
   "metadata": {},
   "outputs": [
    {
     "name": "stdout",
     "output_type": "stream",
     "text": [
      "restaraunts_database.db\n"
     ]
    }
   ],
   "source": [
    "# Create data base\n",
    "conn = sqlite3.connect('restaraunts_database.db') \n",
    "cursor = conn.cursor()\n",
    "\n",
    "# Show dbs in the directory\n",
    "flist = fnmatch.filter(os.listdir('.'), '*.db')\n",
    "for i in flist:\n",
    "    print(i)"
   ]
  },
  {
   "cell_type": "markdown",
   "id": "aff97772",
   "metadata": {},
   "source": [
    "## Create SQL-table in the database"
   ]
  },
  {
   "cell_type": "code",
   "execution_count": 3,
   "id": "a3d83cba",
   "metadata": {},
   "outputs": [],
   "source": [
    "cursor.execute('''CREATE TABLE IF NOT EXISTS restaurants_table (\n",
    "    orderId VARCHAR(50),\n",
    "    restaurant_name VARCHAR(200),\n",
    "    total_stars DECIMAL(8,2),\n",
    "    number_of_reviews DECIMAL(8,2),\n",
    "    cuisine_type VARCHAR(200),\n",
    "    price_class VARCHAR(200),\n",
    "    raw_description VARCHAR(200),\n",
    "    opening_times VARCHAR(200),\n",
    "    address VARCHAR(200),\n",
    "    amenities VARCHAR(200),\n",
    "    district VARCHAR(200),\n",
    "    lat DECIMAL(10,8),\n",
    "    long DECIMAL(11,8)\n",
    ")''')\n",
    "conn.commit()"
   ]
  },
  {
   "cell_type": "markdown",
   "id": "a87c8dee",
   "metadata": {},
   "source": [
    "## Read data from file to data frame"
   ]
  },
  {
   "cell_type": "code",
   "execution_count": 4,
   "id": "34300bd6",
   "metadata": {},
   "outputs": [
    {
     "name": "stdout",
     "output_type": "stream",
     "text": [
      "(239, 14)\n"
     ]
    },
    {
     "data": {
      "text/html": [
       "<div>\n",
       "<style scoped>\n",
       "    .dataframe tbody tr th:only-of-type {\n",
       "        vertical-align: middle;\n",
       "    }\n",
       "\n",
       "    .dataframe tbody tr th {\n",
       "        vertical-align: top;\n",
       "    }\n",
       "\n",
       "    .dataframe thead th {\n",
       "        text-align: right;\n",
       "    }\n",
       "</style>\n",
       "<table border=\"1\" class=\"dataframe\">\n",
       "  <thead>\n",
       "    <tr style=\"text-align: right;\">\n",
       "      <th></th>\n",
       "      <th>web-scraper-order</th>\n",
       "      <th>restaurant_name</th>\n",
       "      <th>total_stars</th>\n",
       "      <th>number_of_reviews</th>\n",
       "      <th>cuisine_type</th>\n",
       "      <th>price_class</th>\n",
       "      <th>raw_description</th>\n",
       "      <th>opening_times</th>\n",
       "      <th>address</th>\n",
       "      <th>amenities</th>\n",
       "      <th>district</th>\n",
       "      <th>long_lat</th>\n",
       "      <th>lat</th>\n",
       "      <th>long</th>\n",
       "    </tr>\n",
       "  </thead>\n",
       "  <tbody>\n",
       "    <tr>\n",
       "      <th>0</th>\n",
       "      <td>1704906267-1</td>\n",
       "      <td>Restaurant Pflug</td>\n",
       "      <td>4.0</td>\n",
       "      <td>(9 reviews)</td>\n",
       "      <td>Schweizer Küche</td>\n",
       "      <td>$$$</td>\n",
       "      <td>NaN</td>\n",
       "      <td>12:00 PM - 2:00 PM, 6:30 PM - 12:00 AM (Folgetag)</td>\n",
       "      <td>Brauerstrasse 74 8004 Zürich</td>\n",
       "      <td>Reservationen möglichKeine MitnahmeModerate La...</td>\n",
       "      <td>Kreis 4</td>\n",
       "      <td>https://maps.googleapis.com/maps/api/staticmap...</td>\n",
       "      <td>47.379016</td>\n",
       "      <td>8.524960</td>\n",
       "    </tr>\n",
       "    <tr>\n",
       "      <th>1</th>\n",
       "      <td>1704906272-2</td>\n",
       "      <td>Ototo</td>\n",
       "      <td>4.3</td>\n",
       "      <td>(7 reviews)</td>\n",
       "      <td>Sushi</td>\n",
       "      <td>$$$</td>\n",
       "      <td>NaN</td>\n",
       "      <td>5:30 PM - 11:00 PM</td>\n",
       "      <td>Nordstrasse 199 8037 Zürich</td>\n",
       "      <td>Reservationen möglichLieferung möglichBestellu...</td>\n",
       "      <td>Kreis 10</td>\n",
       "      <td>https://maps.googleapis.com/maps/api/staticmap...</td>\n",
       "      <td>47.392527</td>\n",
       "      <td>8.530738</td>\n",
       "    </tr>\n",
       "    <tr>\n",
       "      <th>2</th>\n",
       "      <td>1704906276-3</td>\n",
       "      <td>Tschingg</td>\n",
       "      <td>3.8</td>\n",
       "      <td>(6 reviews)</td>\n",
       "      <td>Italienisch</td>\n",
       "      <td>$$</td>\n",
       "      <td>NaN</td>\n",
       "      <td>9:00 AM - 8:00 PM</td>\n",
       "      <td>Schaffhauserstrasse 353 8050 Zürich</td>\n",
       "      <td>Keine ReservierungenFür Gruppen geeignetFür Ki...</td>\n",
       "      <td>Kreis 11</td>\n",
       "      <td>https://maps.googleapis.com/maps/api/staticmap...</td>\n",
       "      <td>47.409786</td>\n",
       "      <td>8.546027</td>\n",
       "    </tr>\n",
       "    <tr>\n",
       "      <th>3</th>\n",
       "      <td>1704906281-4</td>\n",
       "      <td>Karl der Grosse</td>\n",
       "      <td>4.0</td>\n",
       "      <td>(4 reviews)</td>\n",
       "      <td>Schweizer Küche</td>\n",
       "      <td>$$</td>\n",
       "      <td>NaN</td>\n",
       "      <td>8:00 AM - 11:00 PM</td>\n",
       "      <td>Kirchgasse 14 8001 Zürich</td>\n",
       "      <td>Reservationen möglichKein LieferserviceKeine M...</td>\n",
       "      <td>Kreis 1</td>\n",
       "      <td>https://maps.googleapis.com/maps/api/staticmap...</td>\n",
       "      <td>47.369761</td>\n",
       "      <td>8.544650</td>\n",
       "    </tr>\n",
       "    <tr>\n",
       "      <th>4</th>\n",
       "      <td>1704906286-5</td>\n",
       "      <td>L'Altro</td>\n",
       "      <td>5.0</td>\n",
       "      <td>(7 reviews)</td>\n",
       "      <td>Italienisch</td>\n",
       "      <td>$$$</td>\n",
       "      <td>NaN</td>\n",
       "      <td>11:30 AM - 2:30 PM, 5:30 PM - 12:00 AM (Folgetag)</td>\n",
       "      <td>Sternenstrasse 11 8002 Zürich</td>\n",
       "      <td>Reservationen möglichKeine MitnahmeSitzplätze ...</td>\n",
       "      <td>Kreis 2</td>\n",
       "      <td>https://maps.googleapis.com/maps/api/staticmap...</td>\n",
       "      <td>47.360064</td>\n",
       "      <td>8.534062</td>\n",
       "    </tr>\n",
       "  </tbody>\n",
       "</table>\n",
       "</div>"
      ],
      "text/plain": [
       "  web-scraper-order   restaurant_name  total_stars number_of_reviews  \\\n",
       "0      1704906267-1  Restaurant Pflug          4.0       (9 reviews)   \n",
       "1      1704906272-2             Ototo          4.3       (7 reviews)   \n",
       "2      1704906276-3          Tschingg          3.8       (6 reviews)   \n",
       "3      1704906281-4   Karl der Grosse          4.0       (4 reviews)   \n",
       "4      1704906286-5           L'Altro          5.0       (7 reviews)   \n",
       "\n",
       "      cuisine_type price_class raw_description  \\\n",
       "0  Schweizer Küche         $$$             NaN   \n",
       "1            Sushi         $$$             NaN   \n",
       "2      Italienisch          $$             NaN   \n",
       "3  Schweizer Küche          $$             NaN   \n",
       "4      Italienisch         $$$             NaN   \n",
       "\n",
       "                                       opening_times  \\\n",
       "0  12:00 PM - 2:00 PM, 6:30 PM - 12:00 AM (Folgetag)   \n",
       "1                                 5:30 PM - 11:00 PM   \n",
       "2                                  9:00 AM - 8:00 PM   \n",
       "3                                 8:00 AM - 11:00 PM   \n",
       "4  11:30 AM - 2:30 PM, 5:30 PM - 12:00 AM (Folgetag)   \n",
       "\n",
       "                               address  \\\n",
       "0         Brauerstrasse 74 8004 Zürich   \n",
       "1          Nordstrasse 199 8037 Zürich   \n",
       "2  Schaffhauserstrasse 353 8050 Zürich   \n",
       "3            Kirchgasse 14 8001 Zürich   \n",
       "4        Sternenstrasse 11 8002 Zürich   \n",
       "\n",
       "                                           amenities  district  \\\n",
       "0  Reservationen möglichKeine MitnahmeModerate La...   Kreis 4   \n",
       "1  Reservationen möglichLieferung möglichBestellu...  Kreis 10   \n",
       "2  Keine ReservierungenFür Gruppen geeignetFür Ki...  Kreis 11   \n",
       "3  Reservationen möglichKein LieferserviceKeine M...   Kreis 1   \n",
       "4  Reservationen möglichKeine MitnahmeSitzplätze ...   Kreis 2   \n",
       "\n",
       "                                            long_lat        lat      long  \n",
       "0  https://maps.googleapis.com/maps/api/staticmap...  47.379016  8.524960  \n",
       "1  https://maps.googleapis.com/maps/api/staticmap...  47.392527  8.530738  \n",
       "2  https://maps.googleapis.com/maps/api/staticmap...  47.409786  8.546027  \n",
       "3  https://maps.googleapis.com/maps/api/staticmap...  47.369761  8.544650  \n",
       "4  https://maps.googleapis.com/maps/api/staticmap...  47.360064  8.534062  "
      ]
     },
     "execution_count": 4,
     "metadata": {},
     "output_type": "execute_result"
    }
   ],
   "source": [
    "import pandas as pd\n",
    "\n",
    "df = pd.read_csv('restaurant_data_zuerich.csv', \n",
    "                 sep=',', \n",
    "                 encoding='utf-8', \n",
    "                 usecols=['web-scraper-order', 'restaurant_name', 'total_stars', \n",
    "                          'number_of_reviews', 'cuisine_type', 'price_class', \n",
    "                          'raw_description', 'opening_times', 'address', \n",
    "                          'amenities', 'district', 'long_lat', 'lat', 'long'])\n",
    "\n",
    "print(df.shape)\n",
    "df.head(5)\n"
   ]
  },
  {
   "cell_type": "markdown",
   "id": "ef970dfe",
   "metadata": {},
   "source": [
    "## Write data to the SQL-table in data base"
   ]
  },
  {
   "cell_type": "code",
   "execution_count": 5,
   "id": "1c728ac7",
   "metadata": {},
   "outputs": [
    {
     "data": {
      "text/plain": [
       "239"
      ]
     },
     "execution_count": 5,
     "metadata": {},
     "output_type": "execute_result"
    }
   ],
   "source": [
    "df.to_sql(name = 'restaurants_table',\n",
    "          con = conn,\n",
    "          index = False,\n",
    "          if_exists = 'replace')"
   ]
  },
  {
   "cell_type": "markdown",
   "id": "43c2ef9f",
   "metadata": {},
   "source": [
    "## Query the SQL-table"
   ]
  },
  {
   "cell_type": "code",
   "execution_count": 6,
   "id": "48dcc02c",
   "metadata": {},
   "outputs": [
    {
     "data": {
      "text/html": [
       "<div>\n",
       "<style scoped>\n",
       "    .dataframe tbody tr th:only-of-type {\n",
       "        vertical-align: middle;\n",
       "    }\n",
       "\n",
       "    .dataframe tbody tr th {\n",
       "        vertical-align: top;\n",
       "    }\n",
       "\n",
       "    .dataframe thead th {\n",
       "        text-align: right;\n",
       "    }\n",
       "</style>\n",
       "<table border=\"1\" class=\"dataframe\">\n",
       "  <thead>\n",
       "    <tr style=\"text-align: right;\">\n",
       "      <th></th>\n",
       "      <th>RestaurantName</th>\n",
       "      <th>TotalStars</th>\n",
       "      <th>NumberOfReviews</th>\n",
       "      <th>CuisineType</th>\n",
       "      <th>PriceClass</th>\n",
       "      <th>RawDescription</th>\n",
       "      <th>OpeningTimes</th>\n",
       "      <th>Address</th>\n",
       "      <th>Amenities</th>\n",
       "      <th>District</th>\n",
       "      <th>Latitude</th>\n",
       "      <th>Longitude</th>\n",
       "    </tr>\n",
       "  </thead>\n",
       "  <tbody>\n",
       "  </tbody>\n",
       "</table>\n",
       "</div>"
      ],
      "text/plain": [
       "Empty DataFrame\n",
       "Columns: [RestaurantName, TotalStars, NumberOfReviews, CuisineType, PriceClass, RawDescription, OpeningTimes, Address, Amenities, District, Latitude, Longitude]\n",
       "Index: []"
      ]
     },
     "execution_count": 6,
     "metadata": {},
     "output_type": "execute_result"
    }
   ],
   "source": [
    "# Query der SQL-Tabelle\n",
    "cursor.execute('''SELECT   restaurant_name, total_stars, number_of_reviews, cuisine_type, \n",
    "                          price_class, raw_description, opening_times, address, amenities, \n",
    "                          district, lat, long\n",
    "                   FROM restaurants_table\n",
    "                   WHERE number_of_reviews >= 1 AND total_stars >= 3.5''')\n",
    "\n",
    "# Erstellen eines DataFrames aus den abgerufenen Daten\n",
    "df = pd.DataFrame(cursor.fetchall(), \n",
    "                  columns=[ 'RestaurantName', 'TotalStars', 'NumberOfReviews', 'CuisineType', \n",
    "                           'PriceClass', 'RawDescription', 'OpeningTimes', 'Address', 'Amenities', \n",
    "                           'District', 'Latitude', 'Longitude'])    \n",
    "df\n"
   ]
  },
  {
   "cell_type": "markdown",
   "id": "0cc2274f",
   "metadata": {},
   "source": [
    "## Plot histogramm of rental prices"
   ]
  },
  {
   "cell_type": "code",
   "execution_count": 7,
   "id": "60146b13",
   "metadata": {},
   "outputs": [
    {
     "name": "stdout",
     "output_type": "stream",
     "text": [
      "Spalten im DataFrame: Index(['web-scraper-order', 'web-scraper-start-url', 'detail_link',\n",
      "       'detail_link-href', 'restaurant_name', 'total_stars',\n",
      "       'number_of_reviews', 'cuisine_type', 'price_class', 'raw_description',\n",
      "       'opening_times', 'address', 'amenities', 'district', 'long_lat', 'lat',\n",
      "       'long'],\n",
      "      dtype='object')\n",
      "Ist 'total_stars' in den Spalten: True\n"
     ]
    },
    {
     "data": {
      "image/png": "[encoded data removed]",
      "text/plain": [
       "<Figure size 640x480 with 1 Axes>"
      ]
     },
     "metadata": {},
     "output_type": "display_data"
    }
   ],
   "source": [
    "import pandas as pd\n",
    "import matplotlib.pyplot as plt\n",
    "\n",
    "# Laden der Daten aus der CSV-Datei\n",
    "df = pd.read_csv('restaurant_data_zuerich.csv', sep=',', encoding='utf-8')\n",
    "\n",
    "# Überprüfen, ob die Spalte 'total_stars' im DataFrame vorhanden ist\n",
    "print(\"Spalten im DataFrame:\", df.columns)\n",
    "print(\"Ist 'total_stars' in den Spalten:\", 'total_stars' in df.columns)\n",
    "\n",
    "# Erstellen des Histogramms für die Gesamtsternebewertung\n",
    "df['total_stars'].plot.hist(grid=True, \n",
    "                            bins=20, \n",
    "                            rwidth=0.9,\n",
    "                            color='#607c8e')\n",
    "\n",
    "# Hinzufügen von Titel und Achsenbeschriftungen\n",
    "plt.title('Verteilung der Gesamtsternebewertung der Restaurants')\n",
    "plt.xlabel('Gesamtsternebewertung')\n",
    "plt.ylabel('Häufigkeit')\n",
    "\n",
    "# Aktivieren des Gitters\n",
    "plt.grid(axis='y', alpha=0.75)\n",
    "\n",
    "# Anzeigen des Plots\n",
    "plt.show()\n"
   ]
  },
  {
   "cell_type": "markdown",
   "id": "7904d668",
   "metadata": {},
   "source": [
    "## Close db connection (if open)"
   ]
  },
  {
   "cell_type": "code",
   "execution_count": 8,
   "id": "1b90d3ee",
   "metadata": {},
   "outputs": [
    {
     "name": "stdout",
     "output_type": "stream",
     "text": [
      "False\n"
     ]
    }
   ],
   "source": [
    "# Close db connection (if open)\n",
    "try:\n",
    "    if check_conn(conn):\n",
    "        conn.close()\n",
    "    else:\n",
    "        pass\n",
    "except:\n",
    "    pass\n",
    "\n",
    "# Status (True = open, False = closed)\n",
    "print(check_conn(conn))"
   ]
  },
  {
   "cell_type": "markdown",
   "id": "e847eb93",
   "metadata": {},
   "source": [
    "### Jupyter notebook --footer info-- (please always provide this at the end of each submitted notebook)"
   ]
  },
  {
   "cell_type": "code",
   "execution_count": 9,
   "id": "8e706987",
   "metadata": {},
   "outputs": [
    {
     "name": "stdout",
     "output_type": "stream",
     "text": [
      "-----------------------------------\n",
      "POSIX\n",
      "Linux | 6.2.0-1018-azure\n",
      "Datetime: 2024-01-10 20:57:57\n",
      "Python Version: 3.10.13\n",
      "-----------------------------------\n"
     ]
    }
   ],
   "source": [
    "import os\n",
    "import platform\n",
    "import socket\n",
    "from platform import python_version\n",
    "from datetime import datetime\n",
    "\n",
    "print('-----------------------------------')\n",
    "print(os.name.upper())\n",
    "print(platform.system(), '|', platform.release())\n",
    "print('Datetime:', datetime.now().strftime(\"%Y-%m-%d %H:%M:%S\"))\n",
    "print('Python Version:', python_version())\n",
    "print('-----------------------------------')"
   ]
  }
 ],
 "metadata": {
  "kernelspec": {
   "display_name": "Python 3 (ipykernel)",
   "language": "python",
   "name": "python3"
  },
  "language_info": {
   "codemirror_mode": {
    "name": "ipython",
    "version": 3
   },
   "file_extension": ".py",
   "mimetype": "text/x-python",
   "name": "python",
   "nbconvert_exporter": "python",
   "pygments_lexer": "ipython3",
   "version": "3.10.13"
  }
 },
 "nbformat": 4,
 "nbformat_minor": 5
}
